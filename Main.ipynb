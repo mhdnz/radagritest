{
 "cells": [
  {
   "cell_type": "markdown",
   "metadata": {},
   "source": [
    "## 5 top data science libraries in python"
   ]
  },
  {
   "cell_type": "markdown",
   "metadata": {},
   "source": [
    "1.NumPy is a general purpose library for numerical computaion . It contains operations for working on arrays ."
   ]
  },
  {
   "cell_type": "markdown",
   "metadata": {},
   "source": [
    "2.SciPy has modules for mathematical routines including linear algebra and statistics."
   ]
  },
  {
   "cell_type": "markdown",
   "metadata": {},
   "source": [
    "3.Pandas provides flexible data manipulation and analysis capabilities to Python. It has features for reading and writing data from and to various file formats ."
   ]
  },
  {
   "cell_type": "markdown",
   "metadata": {},
   "source": [
    "4.Matplotlib is a library for data visualization . We can use is to draw various types of graphs such as histograms ."
   ]
  },
  {
   "cell_type": "markdown",
   "metadata": {},
   "source": [
    "5.TensorFlow is one of best tools to analysis image and voice flows . It can be used to identify objects from images or to have speech recognition capabilities ."
   ]
  },
  {
   "cell_type": "markdown",
   "metadata": {},
   "source": [
    "I had a brief review on movies . I suppose two months is enough to watch contents and do experiences based on them .\n",
    "So , I'll reach to the first quarter in 10 days and to the second one in 25 days.\n",
    "After that I can finish the third quarter in 40 days and I'll completely finish the course in two months."
   ]
  },
  {
   "cell_type": "code",
   "execution_count": null,
   "metadata": {},
   "outputs": [],
   "source": []
  }
 ],
 "metadata": {
  "kernelspec": {
   "display_name": "Python 3",
   "language": "python",
   "name": "python3"
  },
  "language_info": {
   "codemirror_mode": {
    "name": "ipython",
    "version": 3
   },
   "file_extension": ".py",
   "mimetype": "text/x-python",
   "name": "python",
   "nbconvert_exporter": "python",
   "pygments_lexer": "ipython3",
   "version": "3.8.3"
  }
 },
 "nbformat": 4,
 "nbformat_minor": 4
}
